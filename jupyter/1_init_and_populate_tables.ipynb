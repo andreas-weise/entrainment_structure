{
 "cells": [
  {
   "cell_type": "code",
   "execution_count": 1,
   "metadata": {},
   "outputs": [],
   "source": [
    "import multiprocessing\n",
    "import time\n",
    "\n",
    "import sys\n",
    "sys.path.append('../python/')\n",
    "import cfg\n",
    "import db\n",
    "import fio\n",
    "import lex\n",
    "import sb"
   ]
  },
  {
   "cell_type": "markdown",
   "metadata": {},
   "source": [
    "## Columbia Games Corpus"
   ]
  },
  {
   "cell_type": "code",
   "execution_count": null,
   "metadata": {},
   "outputs": [],
   "source": [
    "corpus_id = cfg.CORPUS_ID_GC"
   ]
  },
  {
   "cell_type": "code",
   "execution_count": null,
   "metadata": {},
   "outputs": [],
   "source": [
    "# initialize the database, extract data from _bt table\n",
    "db.connect(corpus_id)\n",
    "# careful, this DELETES ALL DB TABLES\n",
    "db.executescript(cfg.SQL_PATH, cfg.SQL_INIT_FNAME_GC)\n",
    "db.commit()\n",
    "db.close()"
   ]
  },
  {
   "cell_type": "code",
   "execution_count": null,
   "metadata": {},
   "outputs": [],
   "source": [
    "# extract features for all chunks\n",
    "db.connect(corpus_id)\n",
    "path = cfg.get_corpus_path(corpus_id)\n",
    "for ses_id in db.get_ses_ids():\n",
    "    for a_or_b in ['A', 'B']:\n",
    "        fname = 's%02d.objects.1.%s.wav' % (ses_id, a_or_b)\n",
    "        for chu_id, words, start, end in db.find_chunks(ses_id, a_or_b):\n",
    "            if end - start >= 0.04: # min duration for 75Hz min pitch\n",
    "                features = fio.extract_features(\n",
    "                    path, fname, ses_id, chu_id, words, start, end)\n",
    "                db.set_features(chu_id, features)\n",
    "    db.commit()\n",
    "# run cleanup (set all features null for all chunks with any null)\n",
    "db.executescript(cfg.SQL_PATH, cfg.SQL_CU_FNAME)\n",
    "db.commit()\n",
    "# create auxiliary table chunk_pairs\n",
    "db.executescript(cfg.SQL_PATH, cfg.SQL_AT_FNAME)\n",
    "db.commit()\n",
    "db.close()"
   ]
  },
  {
   "cell_type": "code",
   "execution_count": null,
   "metadata": {},
   "outputs": [],
   "source": [
    "# compute auxiliary files for lex measures\n",
    "db.connect(corpus_id)\n",
    "fio.store_tokens(corpus_id)\n",
    "# lms only for ses (games corpus tasks are too short)\n",
    "lex.store_lms_ngrams(corpus_id, 'ses')\n",
    "db.close()"
   ]
  },
  {
   "cell_type": "markdown",
   "metadata": {},
   "source": [
    "## Switchboard Corpus"
   ]
  },
  {
   "cell_type": "code",
   "execution_count": 2,
   "metadata": {},
   "outputs": [],
   "source": [
    "corpus_id = cfg.CORPUS_ID_SB"
   ]
  },
  {
   "cell_type": "code",
   "execution_count": null,
   "metadata": {},
   "outputs": [],
   "source": [
    "# initialize the database, extract meta-data from logs/transcriptions\n",
    "db.connect(corpus_id)\n",
    "# careful, this DELETES ALL DB TABLES\n",
    "db.executescript(cfg.SQL_PATH, cfg.SQL_INIT_FNAME_SB)\n",
    "db.commit()\n",
    "\n",
    "sb.populate_speakers()\n",
    "sb.populate_topics()\n",
    "sb.populate_sessions()\n",
    "sb.populate_tasks()\n",
    "sb.populate_turns_and_chunks()\n",
    "db.close()"
   ]
  },
  {
   "cell_type": "code",
   "execution_count": null,
   "metadata": {},
   "outputs": [],
   "source": [
    "db.connect(corpus_id)\n",
    "# run script to delete all meta-data for three sessions missing audio\n",
    "db.executescript(cfg.SQL_PATH, cfg.SQL_DM_FNAME)\n",
    "db.commit()\n",
    "db.close()"
   ]
  },
  {
   "cell_type": "code",
   "execution_count": null,
   "metadata": {},
   "outputs": [],
   "source": [
    "# extract features for all chunks\n",
    "# (takes many hours, almost a day on my machine *with* multiprocessing)\n",
    "\n",
    "pool = multiprocessing.Pool(7)\n",
    "\n",
    "corpus_id = cfg.CORPUS_ID_SB\n",
    "db.connect(corpus_id)\n",
    "ses_ids = db.get_ses_ids()\n",
    "db.close()\n",
    "\n",
    "start = 0\n",
    "step = 70\n",
    "\n",
    "for i in range(start, len(ses_ids), step):\n",
    "    print('%d %s\\n' % (i, time.ctime()))\n",
    "    args = [ses_ids[j] for j in range(i, min(i+step, len(ses_ids)))]\n",
    "    results = pool.map(sb.extract_features, args)\n",
    "print('done! %s\\n' % time.ctime())"
   ]
  },
  {
   "cell_type": "code",
   "execution_count": null,
   "metadata": {},
   "outputs": [],
   "source": [
    "# run cleanup (set all features null for all chunks with any null)\n",
    "db.connect(corpus_id)\n",
    "db.executescript(cfg.SQL_PATH, cfg.SQL_CU_FNAME)\n",
    "db.commit()\n",
    "db.close()"
   ]
  },
  {
   "cell_type": "code",
   "execution_count": 3,
   "metadata": {},
   "outputs": [],
   "source": [
    "# create auxiliary table chunk_pairs (takes hours)\n",
    "db.connect(corpus_id)\n",
    "db.executescript(cfg.SQL_PATH, cfg.SQL_AT_FNAME)\n",
    "db.commit()\n",
    "db.close()"
   ]
  },
  {
   "cell_type": "code",
   "execution_count": null,
   "metadata": {},
   "outputs": [],
   "source": [
    "# compute auxiliary files for lex measures\n",
    "corpus_id = cfg.CORPUS_ID_SB\n",
    "db.connect(corpus_id)\n",
    "# tokens/lms only for ses (switchboard tasks and sessions are the same)\n",
    "fio.store_tokens(corpus_id, 'ses')\n",
    "lex.store_lms_ngrams(corpus_id, 'ses')\n",
    "db.close()"
   ]
  },
  {
   "cell_type": "code",
   "execution_count": null,
   "metadata": {},
   "outputs": [],
   "source": []
  }
 ],
 "metadata": {
  "kernelspec": {
   "display_name": "Python 3",
   "language": "python",
   "name": "python3"
  },
  "language_info": {
   "codemirror_mode": {
    "name": "ipython",
    "version": 3
   },
   "file_extension": ".py",
   "mimetype": "text/x-python",
   "name": "python",
   "nbconvert_exporter": "python",
   "pygments_lexer": "ipython3",
   "version": "3.6.9"
  }
 },
 "nbformat": 4,
 "nbformat_minor": 4
}
